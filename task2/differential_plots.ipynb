{
 "cells": [
  {
   "cell_type": "markdown",
   "metadata": {},
   "source": [
    "# differential_plots"
   ]
  },
  {
   "cell_type": "code",
   "execution_count": 1,
   "metadata": {},
   "outputs": [],
   "source": [
    "import numpy as np\n",
    "from scipy.integrate import odeint\n",
    "import matplotlib.pyplot as plt"
   ]
  },
  {
   "cell_type": "code",
   "execution_count": 2,
   "metadata": {},
   "outputs": [],
   "source": [
    "def model(p0,t):\n",
    "  a=10\n",
    "  b=28\n",
    "  c=2.667\n",
    "  x=p0[0]\n",
    "  y=p0[1]\n",
    "  z=p0[2]\n",
    "  dxdt=a*(y-b)\n",
    "  dydt=(b*x)-y-(x*z)\n",
    "  dzdt=(x*y)-(c*z)\n",
    "  return [dxdt,dydt,dzdt]"
   ]
  },
  {
   "cell_type": "code",
   "execution_count": 3,
   "metadata": {},
   "outputs": [
    {
     "name": "stderr",
     "output_type": "stream",
     "text": [
      "C:\\Users\\abc\\anaconda3\\lib\\site-packages\\scipy\\integrate\\odepack.py:247: ODEintWarning: Excess work done on this call (perhaps wrong Dfun type). Run with full_output = 1 to get quantitative information.\n",
      "  warnings.warn(warning_msg, ODEintWarning)\n"
     ]
    }
   ],
   "source": [
    "x0=0\n",
    "y0=1\n",
    "z0=1.05\n",
    "p0=[x0,y0,z0]\n",
    "n=50\n",
    "t=np.linspace(0,50,n)\n",
    "#p0=[0,0]\n",
    "#print(model(p0,0))\n",
    "x=np.zeros(n)\n",
    "y=np.zeros(n)\n",
    "z=np.zeros(n)\n",
    "x[0]=p0[0]\n",
    "y[0]=p0[1]\n",
    "z[0]=p0[2]\n",
    "#print(x,y,z)\n",
    "for i in range(1,n):\n",
    "  tspan=[t[i-1],t[i]]\n",
    "  p=odeint(model,p0,tspan)\n",
    "  x[i]=p[1][0]\n",
    "  y[i]=p[1][1]\n",
    "  z[i]=p[1][2]\n",
    "  p0=p[1]"
   ]
  },
  {
   "cell_type": "code",
   "execution_count": 4,
   "metadata": {},
   "outputs": [
    {
     "data": {
      "image/png": "[encoded data removed]",
      "text/plain": [
       "<Figure size 432x288 with 1 Axes>"
      ]
     },
     "metadata": {
      "needs_background": "light"
     },
     "output_type": "display_data"
    }
   ],
   "source": [
    "plt.plot(t,x,\"r:\",label=\"x(t)\")\n",
    "plt.plot(t,y,\"b-\",label=\"y(t)\")\n",
    "plt.plot(t,z,\"g--\",label=\"z(t)\")\n",
    "plt.xlabel(\"time\")\n",
    "plt.ylabel(\"values\")\n",
    "plt.legend(loc=\"best\")\n",
    "plt.show()"
   ]
  },
  {
   "cell_type": "code",
   "execution_count": 5,
   "metadata": {},
   "outputs": [
    {
     "name": "stdout",
     "output_type": "stream",
     "text": [
      "[    0.          -171.43701638  -236.31976664  -285.98456858\n",
      "  -331.00053398  -369.48896823  -406.66152333  -434.14591112\n",
      "  -457.06334993  -479.71748698  -500.79159044  -519.47765431\n",
      "  -539.89069803  -557.6707728   -574.59968237  -591.71579182\n",
      "  -609.25290384  -627.73574533  -643.91502683  -660.76633056\n",
      "  -676.53608311  -691.81710858  -706.78762291  -722.10451618\n",
      "  -737.3471936   -753.35104919  -768.24600953  -783.17964671\n",
      "  -797.94363182  -813.65499207  -828.61085388  -843.16153403\n",
      "  -857.609779    -871.92978069  -886.25896965  -900.91394578\n",
      "  -914.97197608  -931.9575853   -946.47100184  -962.91904414\n",
      "  -977.86293772  -992.19144016 -1006.21249976 -1020.56792941\n",
      " -1035.37785341 -1049.5243412  -1063.99234886 -1078.41438575\n",
      " -1092.67710842 -1106.99000754] [ 1.00000000e+00 -2.53810132e+00 -5.89529411e+00  4.50756543e+00\n",
      " -4.26460167e-01 -2.48649340e+00 -2.62447844e+00  1.80380442e+00\n",
      "  3.79253035e-01  2.99090240e-01 -9.85099321e-01  9.95950389e-01\n",
      "  4.26576969e-01 -5.87970474e-01  5.43582655e-01 -1.83000874e-01\n",
      " -3.34142415e-01  1.47938124e-01  4.05989334e-01 -2.39928241e-02\n",
      "  4.77103738e-02  1.90093360e-01  2.32769913e-01 -7.02711532e-02\n",
      " -3.80103223e-01 -1.60060203e-01 -1.62863252e-01 -1.20218889e-01\n",
      "  4.50086363e-02  7.15318422e-02  6.61236151e-02  2.71717734e-02\n",
      " -2.64980339e-03  5.36749194e-04  2.24041395e-02 -1.73878393e-01\n",
      " -1.22490136e-01 -1.53377379e-01 -9.75269249e-02 -5.43802620e-02\n",
      " -1.26651118e-01 -1.21202179e-01 -1.04335226e-01 -1.08959465e-01\n",
      " -6.79853752e-02 -1.01811317e-01 -7.29977688e-02 -3.89567770e-02\n",
      " -5.94675678e-02 -7.09949164e-02] [ 1.05       17.05656543 32.86560643 30.42665332 31.99819683 25.88773007\n",
      " 28.18678855 27.4608962  29.67748691 29.45190494 29.03203645 27.71235242\n",
      " 27.1393257  28.7965205  27.53021876 28.73184421 28.61985641 27.48412697\n",
      " 28.01942431 27.54035061 27.60816321 27.7602509  27.92437017 27.6879309\n",
      " 28.05428563 27.75149398 28.22267989 27.79081953 28.13158621 27.94383453\n",
      " 27.98978581 28.08273596 28.09812585 28.08044586 27.9868329  27.96458784\n",
      " 28.07912286 28.03147968 27.9298794  27.93905992 27.96900052 27.9720123\n",
      " 27.96122864 28.02672171 27.95960536 28.02063028 27.96644272 27.99557945\n",
      " 28.0263692  28.02508982]\n"
     ]
    }
   ],
   "source": [
    "print(x,y,z)"
   ]
  }
 ],
 "metadata": {
  "kernelspec": {
   "display_name": "Python 3",
   "language": "python",
   "name": "python3"
  },
  "language_info": {
   "codemirror_mode": {
    "name": "ipython",
    "version": 3
   },
   "file_extension": ".py",
   "mimetype": "text/x-python",
   "name": "python",
   "nbconvert_exporter": "python",
   "pygments_lexer": "ipython3",
   "version": "3.8.3"
  }
 },
 "nbformat": 4,
 "nbformat_minor": 4
}
